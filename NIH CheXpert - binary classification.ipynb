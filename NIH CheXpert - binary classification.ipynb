{
 "cells": [
  {
   "cell_type": "markdown",
   "metadata": {},
   "source": [
    "## NIH CheXpert dataset (Classification)"
   ]
  },
  {
   "cell_type": "markdown",
   "metadata": {},
   "source": [
    "## Import Library"
   ]
  },
  {
   "cell_type": "code",
   "execution_count": 1,
   "metadata": {
    "scrolled": true
   },
   "outputs": [
    {
     "name": "stderr",
     "output_type": "stream",
     "text": [
      "Using TensorFlow backend.\n"
     ]
    }
   ],
   "source": [
    "import csv\n",
    "import numpy as np\n",
    "from pathlib import Path\n",
    "\n",
    "# Plot \n",
    "import pandas as pd\n",
    "from sklearn.utils import shuffle\n",
    "import matplotlib.pyplot as plt\n",
    "\n",
    "#import keras\n",
    "from keras.preprocessing.image import ImageDataGenerator\n",
    "from keras.layers import Dense, Activation, Flatten, Dropout, BatchNormalization\n",
    "from keras.layers import Dense, GlobalAveragePooling2D\n",
    "from keras.layers import Conv2D, MaxPooling2D\n",
    "from keras.models import Sequential\n",
    "from keras import regularizers, optimizers\n",
    "from keras import backend as K\n",
    "\n",
    "# model \n",
    "from keras.applications.densenet import DenseNet121\n",
    "from keras.models import Model\n",
    "from keras.models import load_model\n",
    "\n",
    "# metric\n",
    "from sklearn.metrics import classification_report\n"
   ]
  },
  {
   "cell_type": "markdown",
   "metadata": {},
   "source": [
    "## Load data and calculate its counts "
   ]
  },
  {
   "cell_type": "code",
   "execution_count": 2,
   "metadata": {},
   "outputs": [
    {
     "name": "stdout",
     "output_type": "stream",
     "text": [
      "0    553\n",
      "1    549\n",
      "Name: label, dtype: int64\n"
     ]
    },
    {
     "data": {
      "text/html": [
       "<div>\n",
       "<style scoped>\n",
       "    .dataframe tbody tr th:only-of-type {\n",
       "        vertical-align: middle;\n",
       "    }\n",
       "\n",
       "    .dataframe tbody tr th {\n",
       "        vertical-align: top;\n",
       "    }\n",
       "\n",
       "    .dataframe thead th {\n",
       "        text-align: right;\n",
       "    }\n",
       "</style>\n",
       "<table border=\"1\" class=\"dataframe\">\n",
       "  <thead>\n",
       "    <tr style=\"text-align: right;\">\n",
       "      <th></th>\n",
       "      <th>filename</th>\n",
       "      <th>AP_L</th>\n",
       "      <th>label</th>\n",
       "    </tr>\n",
       "  </thead>\n",
       "  <tbody>\n",
       "    <tr>\n",
       "      <th>0</th>\n",
       "      <td>CheXpert-v1.0-small/train/patient00019/study4/...</td>\n",
       "      <td>Frontal</td>\n",
       "      <td>1</td>\n",
       "    </tr>\n",
       "    <tr>\n",
       "      <th>1</th>\n",
       "      <td>CheXpert-v1.0-small/train/patient00084/study2/...</td>\n",
       "      <td>Frontal</td>\n",
       "      <td>0</td>\n",
       "    </tr>\n",
       "    <tr>\n",
       "      <th>3</th>\n",
       "      <td>CheXpert-v1.0-small/train/patient00204/study16...</td>\n",
       "      <td>Frontal</td>\n",
       "      <td>0</td>\n",
       "    </tr>\n",
       "    <tr>\n",
       "      <th>4</th>\n",
       "      <td>CheXpert-v1.0-small/train/patient00216/study1/...</td>\n",
       "      <td>Frontal</td>\n",
       "      <td>0</td>\n",
       "    </tr>\n",
       "    <tr>\n",
       "      <th>5</th>\n",
       "      <td>CheXpert-v1.0-small/train/patient00277/study13...</td>\n",
       "      <td>Frontal</td>\n",
       "      <td>0</td>\n",
       "    </tr>\n",
       "  </tbody>\n",
       "</table>\n",
       "</div>"
      ],
      "text/plain": [
       "                                            filename     AP_L  label\n",
       "0  CheXpert-v1.0-small/train/patient00019/study4/...  Frontal      1\n",
       "1  CheXpert-v1.0-small/train/patient00084/study2/...  Frontal      0\n",
       "3  CheXpert-v1.0-small/train/patient00204/study16...  Frontal      0\n",
       "4  CheXpert-v1.0-small/train/patient00216/study1/...  Frontal      0\n",
       "5  CheXpert-v1.0-small/train/patient00277/study13...  Frontal      0"
      ]
     },
     "execution_count": 2,
     "metadata": {},
     "output_type": "execute_result"
    }
   ],
   "source": [
    "DatasetPath = \"D:/Dataset/CheXpert-v1.0-small\"\n",
    "csvPath     = \"D:/Dataset/CheXpert-v1.0-small/train.csv\"\n",
    "\n",
    "positive_pos = 7 # 15: Pleural Effusion \n",
    "negatvie_pos = 5  # 5: No finding,\n",
    "\n",
    "data = []\n",
    "error = 0 \n",
    "with open(csvPath, newline='') as f:\n",
    "    rows = csv.reader(f)\n",
    "    \n",
    "    row = next(rows)\n",
    "    title = [row[x] for x in np.asarray([negatvie_pos,positive_pos])]\n",
    "\n",
    "    for line in rows:\n",
    "        image_name = line[0]\n",
    "        AP_L       = line[3]\n",
    "        device       = line[18]\n",
    "\n",
    "        if(device):\n",
    "            if(float(device) == 0):\n",
    "                if(line[positive_pos]):\n",
    "                    positive_label = float(line[positive_pos])\n",
    "                    if(positive_label == -1):\n",
    "                        positive_label = 1\n",
    "                    positive_label = int(positive_label)\n",
    "                else:\n",
    "                    positive_label = 0\n",
    "\n",
    "                if(line[negatvie_pos]):\n",
    "                    negative_label = float(line[negatvie_pos])\n",
    "                    if(negative_label == -1):\n",
    "                        negative_label = 1\n",
    "                    negative_label = int(negative_label)\n",
    "                else:\n",
    "                    negative_label = 0\n",
    "\n",
    "                if(positive_label == 1 and negative_label == 0):\n",
    "                    data.append((image_name,AP_L,1))\n",
    "                elif(positive_label == 0 and negative_label == 1):\n",
    "                    data.append((image_name,AP_L,0))\n",
    "                else:\n",
    "                    continue\n",
    "\n",
    "data = pd.DataFrame(data, columns=['filename', 'AP_L', 'label'] ,index=None)\n",
    "data = data[~data[data.columns[1]].str.contains(\"Lateral\")]\n",
    "print(data['label'].value_counts())\n",
    "data.head()"
   ]
  },
  {
   "cell_type": "code",
   "execution_count": 3,
   "metadata": {
    "scrolled": false
   },
   "outputs": [
    {
     "data": {
      "image/png": "[encoded data removed]",
      "text/plain": [
       "<Figure size 288x360 with 1 Axes>"
      ]
     },
     "metadata": {
      "needs_background": "light"
     },
     "output_type": "display_data"
    }
   ],
   "source": [
    "import seaborn as sns\n",
    "# Get the counts for each class\n",
    "cases_count = data['label'].value_counts()\n",
    "\n",
    "\n",
    "# Plot the results \n",
    "plt.figure(figsize=(4,5))\n",
    "sns.set(font_scale=1.5) # for label size\n",
    "sns.barplot(x = cases_count.index, y= cases_count.values)\n",
    "plt.title('Number of cases', fontsize=14)\n",
    "plt.xlabel('Case type', fontsize=12)\n",
    "plt.ylabel('Count', fontsize=12)\n",
    "plt.xticks(cases_count.index, [title[i] for i in cases_count.index])\n",
    "plt.show()\n"
   ]
  },
  {
   "cell_type": "code",
   "execution_count": 10,
   "metadata": {},
   "outputs": [
    {
     "name": "stdout",
     "output_type": "stream",
     "text": [
      "Found 874 validated image filenames.\n",
      "Found 228 validated image filenames.\n"
     ]
    }
   ],
   "source": [
    "#matplotlib.use(\"Agg\")\n",
    "from keras.utils import normalize\n",
    "import cv2 as cv\n",
    "\n",
    "msk = np.random.rand(len(data)) < 0.8\n",
    "train_data = data[msk]\n",
    "val_data = data[~msk]\n",
    "# data generation for Keras\n",
    "train_datagen=ImageDataGenerator()#rescale = 1./255,\n",
    "                                 #featurewise_center=True,\n",
    "                                 #featurewise_std_normalization=True,\n",
    "                                 #rotation_range=5,\n",
    "                                 #width_shift_range=0.2,\n",
    "                                 #height_shift_range=0.2,\n",
    "                                 #horizontal_flip=True)\n",
    "\n",
    "target_size = (224,224)\n",
    "\n",
    "rootPath = \"D:/Dataset\"\n",
    "batch = 32\n",
    "train_generator=train_datagen.flow_from_dataframe(dataframe=train_data, directory=rootPath , x_col=\"filename\", y_col=\"label\", class_mode=\"raw\", target_size=target_size,  batch_size=batch)\n",
    "val_generator=train_datagen.flow_from_dataframe(dataframe=val_data, directory=rootPath , x_col=\"filename\", y_col=\"label\", class_mode=\"raw\", target_size=target_size,  batch_size=batch)\n",
    "\n"
   ]
  },
  {
   "cell_type": "markdown",
   "metadata": {},
   "source": [
    "### #model architecture design/selection\n",
    "# create the base pre-trained model\n",
    "\n",
    "\n",
    "\n",
    "base_model = DenseNet121(input_shape=(224,224,3),include_top = False, weights='imagenet')\n",
    "for layer in base_model.layers:\n",
    "    layer.trainable = False\n",
    "# add a global spatial average pooling layer\n",
    "\n",
    "x = base_model.output\n",
    "x = GlobalAveragePooling2D()(x)\n",
    "\n",
    "# Add a fully-connected layer\n",
    "x = Dense(16, activation='relu')(x)\n",
    "# and a logistic layer --  we have 5 classes\n",
    "predictions = Dense(1, activation='sigmoid')(x)\n",
    "\n",
    "#print(predictions)\n",
    "model = Model(inputs=base_model.input, outputs=predictions)\n",
    "model.summary()\n",
    "# first: train only the top layers (which were randomly initialized)\n",
    "# i.e. freeze all convolutional DenseNet layers\n",
    "\n",
    "\n",
    "# compile the model (should be done *after* setting layers to non-trainable)\n",
    "\n"
   ]
  },
  {
   "cell_type": "code",
   "execution_count": 11,
   "metadata": {},
   "outputs": [
    {
     "name": "stdout",
     "output_type": "stream",
     "text": [
      "Model: \"model_2\"\n",
      "_________________________________________________________________\n",
      "Layer (type)                 Output Shape              Param #   \n",
      "=================================================================\n",
      "input_2 (InputLayer)         (None, 224, 224, 3)       0         \n",
      "_________________________________________________________________\n",
      "conv2d_6 (Conv2D)            (None, 112, 112, 16)      1216      \n",
      "_________________________________________________________________\n",
      "batch_normalization_6 (Batch (None, 112, 112, 16)      64        \n",
      "_________________________________________________________________\n",
      "activation_6 (Activation)    (None, 112, 112, 16)      0         \n",
      "_________________________________________________________________\n",
      "max_pooling2d_6 (MaxPooling2 (None, 56, 56, 16)        0         \n",
      "_________________________________________________________________\n",
      "conv2d_7 (Conv2D)            (None, 56, 56, 32)        12832     \n",
      "_________________________________________________________________\n",
      "batch_normalization_7 (Batch (None, 56, 56, 32)        128       \n",
      "_________________________________________________________________\n",
      "activation_7 (Activation)    (None, 56, 56, 32)        0         \n",
      "_________________________________________________________________\n",
      "max_pooling2d_7 (MaxPooling2 (None, 28, 28, 32)        0         \n",
      "_________________________________________________________________\n",
      "conv2d_8 (Conv2D)            (None, 28, 28, 64)        51264     \n",
      "_________________________________________________________________\n",
      "batch_normalization_8 (Batch (None, 28, 28, 64)        256       \n",
      "_________________________________________________________________\n",
      "activation_8 (Activation)    (None, 28, 28, 64)        0         \n",
      "_________________________________________________________________\n",
      "max_pooling2d_8 (MaxPooling2 (None, 14, 14, 64)        0         \n",
      "_________________________________________________________________\n",
      "conv2d_9 (Conv2D)            (None, 14, 14, 128)       204928    \n",
      "_________________________________________________________________\n",
      "batch_normalization_9 (Batch (None, 14, 14, 128)       512       \n",
      "_________________________________________________________________\n",
      "activation_9 (Activation)    (None, 14, 14, 128)       0         \n",
      "_________________________________________________________________\n",
      "max_pooling2d_9 (MaxPooling2 (None, 7, 7, 128)         0         \n",
      "_________________________________________________________________\n",
      "conv2d_10 (Conv2D)           (None, 7, 7, 256)         819456    \n",
      "_________________________________________________________________\n",
      "batch_normalization_10 (Batc (None, 7, 7, 256)         1024      \n",
      "_________________________________________________________________\n",
      "activation_10 (Activation)   (None, 7, 7, 256)         0         \n",
      "_________________________________________________________________\n",
      "max_pooling2d_10 (MaxPooling (None, 4, 4, 256)         0         \n",
      "_________________________________________________________________\n",
      "global_average_pooling2d_2 ( (None, 256)               0         \n",
      "_________________________________________________________________\n",
      "dense_3 (Dense)              (None, 32)                8224      \n",
      "_________________________________________________________________\n",
      "dense_4 (Dense)              (None, 1)                 33        \n",
      "=================================================================\n",
      "Total params: 1,099,937\n",
      "Trainable params: 1,098,945\n",
      "Non-trainable params: 992\n",
      "_________________________________________________________________\n"
     ]
    }
   ],
   "source": [
    "from keras.layers import Input,Convolution2D,BatchNormalization,Activation,MaxPooling2D\n",
    "model_input = Input(shape=(224,224,3))\n",
    "x = Convolution2D(filters = 16, kernel_size = (5,5), strides = 2, padding='same', \n",
    "                            data_format = 'channels_last')(model_input)\n",
    "x = BatchNormalization()(x)\n",
    "x = Activation('relu')(x)\n",
    "x = MaxPooling2D(pool_size=(3,3), strides = 2, padding ='same')(x)\n",
    "\n",
    "x = Convolution2D(filters = 32, kernel_size = (5,5), strides = 1, padding='same', \n",
    "                            data_format = 'channels_last')(x)\n",
    "x = BatchNormalization()(x)\n",
    "x = Activation('relu')(x)\n",
    "x = MaxPooling2D(pool_size=(3,3), strides = 2, padding ='same')(x)\n",
    "\n",
    "x = Convolution2D(filters = 64, kernel_size = (5,5), strides = 1, padding='same', \n",
    "                            data_format = 'channels_last')(x)\n",
    "x = BatchNormalization()(x)\n",
    "x = Activation('relu')(x)\n",
    "x = MaxPooling2D(pool_size=(3,3), strides = 2, padding ='same')(x)\n",
    "\n",
    "x = Convolution2D(filters = 128, kernel_size = (5,5), strides = 1, padding='same', \n",
    "                            data_format = 'channels_last')(x)\n",
    "x = BatchNormalization()(x)\n",
    "x = Activation('relu')(x)\n",
    "x = MaxPooling2D(pool_size=(3,3), strides = 2, padding ='same')(x)\n",
    "\n",
    "x = Convolution2D(filters = 256, kernel_size = (5,5), strides = 1, padding='same', \n",
    "                            data_format = 'channels_last')(x)\n",
    "x = BatchNormalization()(x)\n",
    "x = Activation('relu')(x)\n",
    "x = MaxPooling2D(pool_size=(3,3), strides = 2, padding ='same')(x)\n",
    "\n",
    "x = GlobalAveragePooling2D()(x)\n",
    "\n",
    "# Add a fully-connected layer\n",
    "x = Dense(32, activation='relu')(x)\n",
    "# and a logistic layer --  we have 5 classes\n",
    "predictions = Dense(1, activation='sigmoid')(x)\n",
    "\n",
    "#print(predictions)\n",
    "model = Model(inputs=model_input, outputs=predictions)\n",
    "model.summary()\n",
    "# first: train only the top layers (which were randomly initialized)\n",
    "# i.e. freeze all convolutional DenseNet layers\n",
    "\n",
    "\n",
    "# compile the model (should be done *after* setting layers to non-trainable)\n",
    "\n",
    "# model training\n",
    "adam = optimizers.Adam(lr=0.005,decay=0.1)\n",
    "#SGD  = optimizers.SGD(lr=0.001, momentum=0.9)\n",
    "model.compile(optimizer= adam, loss='binary_crossentropy', metrics=['binary_accuracy'])\n"
   ]
  },
  {
   "cell_type": "code",
   "execution_count": 6,
   "metadata": {},
   "outputs": [
    {
     "name": "stdout",
     "output_type": "stream",
     "text": [
      "[0.99638336 1.00364299]\n"
     ]
    },
    {
     "name": "stderr",
     "output_type": "stream",
     "text": [
      "D:\\anaconda\\envs\\envmarquez\\lib\\site-packages\\sklearn\\utils\\validation.py:70: FutureWarning: Pass classes=[0, 1], y=[1 0 0 ... 0 0 1] as keyword args. From version 0.25 passing these as positional arguments will result in an error\n",
      "  FutureWarning)\n"
     ]
    }
   ],
   "source": [
    "from sklearn.utils.class_weight import compute_class_weight\n",
    "\n",
    "weight = compute_class_weight('balanced', [0,1], data['label'].values)\n",
    "print(weight)"
   ]
  },
  {
   "cell_type": "code",
   "execution_count": 12,
   "metadata": {},
   "outputs": [],
   "source": [
    "# model training\n",
    "adam = optimizers.Adam(lr=0.0001,decay=0.1)\n",
    "#SGD  = optimizers.SGD(lr=0.001, momentum=0.9)\n",
    "model.compile(optimizer= adam, loss='binary_crossentropy', metrics=['binary_accuracy'])"
   ]
  },
  {
   "cell_type": "code",
   "execution_count": 13,
   "metadata": {
    "scrolled": true
   },
   "outputs": [
    {
     "name": "stdout",
     "output_type": "stream",
     "text": [
      "Epoch 1/20\n",
      "55/54 [==============================] - 6s 107ms/step - loss: 0.6064 - binary_accuracy: 0.6696 - val_loss: 0.7104 - val_binary_accuracy: 0.5877\n",
      "Epoch 2/20\n",
      "55/54 [==============================] - 5s 96ms/step - loss: 0.5080 - binary_accuracy: 0.7739 - val_loss: 0.6883 - val_binary_accuracy: 0.6842\n",
      "Epoch 3/20\n",
      "55/54 [==============================] - 5s 93ms/step - loss: 0.4889 - binary_accuracy: 0.7914 - val_loss: 0.7551 - val_binary_accuracy: 0.7281\n",
      "Epoch 4/20\n",
      "55/54 [==============================] - 5s 99ms/step - loss: 0.4680 - binary_accuracy: 0.8044 - val_loss: 0.6099 - val_binary_accuracy: 0.7632\n",
      "Epoch 5/20\n",
      "55/54 [==============================] - ETA: 0s - loss: 0.4510 - binary_accuracy: 0.821 - 5s 97ms/step - loss: 0.4498 - binary_accuracy: 0.8211 - val_loss: 0.8414 - val_binary_accuracy: 0.7675\n",
      "Epoch 6/20\n",
      "55/54 [==============================] - 5s 94ms/step - loss: 0.4455 - binary_accuracy: 0.8275 - val_loss: 0.5263 - val_binary_accuracy: 0.7456\n",
      "Epoch 7/20\n",
      "55/54 [==============================] - 5s 97ms/step - loss: 0.4308 - binary_accuracy: 0.8435 - val_loss: 0.2201 - val_binary_accuracy: 0.7544\n",
      "Epoch 8/20\n",
      "55/54 [==============================] - 5s 94ms/step - loss: 0.4275 - binary_accuracy: 0.8335 - val_loss: 0.4210 - val_binary_accuracy: 0.7588\n",
      "Epoch 9/20\n",
      "55/54 [==============================] - 5s 94ms/step - loss: 0.4214 - binary_accuracy: 0.8450 - val_loss: 0.7806 - val_binary_accuracy: 0.7632\n",
      "Epoch 10/20\n",
      "55/54 [==============================] - 5s 96ms/step - loss: 0.4218 - binary_accuracy: 0.8432 - val_loss: 0.3181 - val_binary_accuracy: 0.7807\n",
      "Epoch 11/20\n",
      "55/54 [==============================] - 5s 97ms/step - loss: 0.4169 - binary_accuracy: 0.8456 - val_loss: 0.2737 - val_binary_accuracy: 0.7719\n",
      "Epoch 12/20\n",
      "55/54 [==============================] - 5s 93ms/step - loss: 0.4000 - binary_accuracy: 0.8607 - val_loss: 0.3857 - val_binary_accuracy: 0.7675\n",
      "Epoch 13/20\n",
      "55/54 [==============================] - 5s 97ms/step - loss: 0.4024 - binary_accuracy: 0.8619 - val_loss: 0.5763 - val_binary_accuracy: 0.7719\n",
      "Epoch 14/20\n",
      "55/54 [==============================] - 5s 95ms/step - loss: 0.3968 - binary_accuracy: 0.8548 - val_loss: 0.3941 - val_binary_accuracy: 0.7675\n",
      "Epoch 15/20\n",
      "55/54 [==============================] - 5s 97ms/step - loss: 0.4029 - binary_accuracy: 0.8550 - val_loss: 0.4719 - val_binary_accuracy: 0.7719\n",
      "Epoch 16/20\n",
      "55/54 [==============================] - 5s 94ms/step - loss: 0.3939 - binary_accuracy: 0.8660 - val_loss: 0.3955 - val_binary_accuracy: 0.7719\n",
      "Epoch 17/20\n",
      "55/54 [==============================] - 5s 96ms/step - loss: 0.3894 - binary_accuracy: 0.8648 - val_loss: 0.4907 - val_binary_accuracy: 0.7719\n",
      "Epoch 18/20\n",
      "55/54 [==============================] - 5s 95ms/step - loss: 0.3873 - binary_accuracy: 0.8660 - val_loss: 0.5817 - val_binary_accuracy: 0.7763\n",
      "Epoch 19/20\n",
      "55/54 [==============================] - 5s 96ms/step - loss: 0.3913 - binary_accuracy: 0.8583 - val_loss: 1.0874 - val_binary_accuracy: 0.7763\n",
      "Epoch 20/20\n",
      "55/54 [==============================] - 5s 94ms/step - loss: 0.3795 - binary_accuracy: 0.8747 - val_loss: 0.7441 - val_binary_accuracy: 0.7763\n"
     ]
    }
   ],
   "source": [
    "# fit model\n",
    "epochs  = 20\n",
    "history = model.fit_generator(generator=train_generator,\n",
    "                    steps_per_epoch=train_generator.n / train_generator.batch_size * 2,\n",
    "                    validation_data=val_generator,\n",
    "                    validation_steps=val_generator.n / val_generator.batch_size,\n",
    "                    class_weight = weight,\n",
    "\n",
    "                    epochs=epochs)\n"
   ]
  },
  {
   "cell_type": "code",
   "execution_count": 14,
   "metadata": {
    "scrolled": true
   },
   "outputs": [
    {
     "name": "stdout",
     "output_type": "stream",
     "text": [
      "dict_keys(['val_loss', 'val_binary_accuracy', 'loss', 'binary_accuracy'])\n"
     ]
    },
    {
     "data": {
      "image/png": "[encoded data removed]",
      "text/plain": [
       "<Figure size 432x288 with 1 Axes>"
      ]
     },
     "metadata": {},
     "output_type": "display_data"
    },
    {
     "data": {
      "image/png": "[encoded data removed]",
      "text/plain": [
       "<Figure size 432x288 with 1 Axes>"
      ]
     },
     "metadata": {},
     "output_type": "display_data"
    }
   ],
   "source": [
    "print(history.history.keys())\n",
    "# summarize history for accuracy\n",
    "plt.plot(history.history['binary_accuracy'])\n",
    "plt.plot(history.history['val_binary_accuracy'])\n",
    "plt.title('model accuracy')\n",
    "plt.ylabel('accuracy')\n",
    "plt.xlabel('epoch')\n",
    "plt.legend(['train', 'test'], loc='upper left') \n",
    "plt.show()\n",
    "# summarize history for loss \n",
    "plt.figure()\n",
    "plt.plot(history.history['loss']) \n",
    "plt.plot(history.history['val_loss']) \n",
    "plt.title('model loss')\n",
    "plt.ylabel('loss')\n",
    "plt.xlabel('epoch')\n",
    "plt.legend(['train', 'test'], loc='upper left') \n",
    "plt.show()"
   ]
  },
  {
   "cell_type": "code",
   "execution_count": 15,
   "metadata": {},
   "outputs": [
    {
     "name": "stdout",
     "output_type": "stream",
     "text": [
      "1    32\n",
      "0    26\n",
      "Name: label, dtype: int64\n"
     ]
    },
    {
     "data": {
      "text/html": [
       "<div>\n",
       "<style scoped>\n",
       "    .dataframe tbody tr th:only-of-type {\n",
       "        vertical-align: middle;\n",
       "    }\n",
       "\n",
       "    .dataframe tbody tr th {\n",
       "        vertical-align: top;\n",
       "    }\n",
       "\n",
       "    .dataframe thead th {\n",
       "        text-align: right;\n",
       "    }\n",
       "</style>\n",
       "<table border=\"1\" class=\"dataframe\">\n",
       "  <thead>\n",
       "    <tr style=\"text-align: right;\">\n",
       "      <th></th>\n",
       "      <th>filename</th>\n",
       "      <th>AP_L</th>\n",
       "      <th>label</th>\n",
       "    </tr>\n",
       "  </thead>\n",
       "  <tbody>\n",
       "    <tr>\n",
       "      <th>0</th>\n",
       "      <td>CheXpert-v1.0-small/valid/patient64541/study1/...</td>\n",
       "      <td>Frontal</td>\n",
       "      <td>1</td>\n",
       "    </tr>\n",
       "    <tr>\n",
       "      <th>1</th>\n",
       "      <td>CheXpert-v1.0-small/valid/patient64544/study1/...</td>\n",
       "      <td>Frontal</td>\n",
       "      <td>0</td>\n",
       "    </tr>\n",
       "    <tr>\n",
       "      <th>2</th>\n",
       "      <td>CheXpert-v1.0-small/valid/patient64548/study1/...</td>\n",
       "      <td>Frontal</td>\n",
       "      <td>1</td>\n",
       "    </tr>\n",
       "    <tr>\n",
       "      <th>3</th>\n",
       "      <td>CheXpert-v1.0-small/valid/patient64551/study1/...</td>\n",
       "      <td>Frontal</td>\n",
       "      <td>0</td>\n",
       "    </tr>\n",
       "    <tr>\n",
       "      <th>5</th>\n",
       "      <td>CheXpert-v1.0-small/valid/patient64552/study1/...</td>\n",
       "      <td>Frontal</td>\n",
       "      <td>1</td>\n",
       "    </tr>\n",
       "  </tbody>\n",
       "</table>\n",
       "</div>"
      ],
      "text/plain": [
       "                                            filename     AP_L  label\n",
       "0  CheXpert-v1.0-small/valid/patient64541/study1/...  Frontal      1\n",
       "1  CheXpert-v1.0-small/valid/patient64544/study1/...  Frontal      0\n",
       "2  CheXpert-v1.0-small/valid/patient64548/study1/...  Frontal      1\n",
       "3  CheXpert-v1.0-small/valid/patient64551/study1/...  Frontal      0\n",
       "5  CheXpert-v1.0-small/valid/patient64552/study1/...  Frontal      1"
      ]
     },
     "execution_count": 15,
     "metadata": {},
     "output_type": "execute_result"
    }
   ],
   "source": [
    "testcsvPath = \"D:/Dataset/CheXpert-v1.0-small/valid.csv\"\n",
    "\n",
    "#positive_pos = 15 # 15: Pleural Effusion \n",
    "#negatvie_pos = 5  # 5: No finding,\n",
    "\n",
    "test_data = []\n",
    "with open(testcsvPath, newline='') as f:\n",
    "    rows = csv.reader(f)\n",
    "    \n",
    "    row = next(rows)\n",
    "    title = [row[x] for x in np.asarray([negatvie_pos,positive_pos])]\n",
    "\n",
    "    for line in rows:\n",
    "        image_name = line[0]\n",
    "        AP_L       = line[3]\n",
    "        device       = line[18]\n",
    "        if(device):\n",
    "            if(float(device) == 0):\n",
    "                if(line[positive_pos]):\n",
    "                    positive_label = float(line[positive_pos])\n",
    "                    if(positive_label == -1):\n",
    "                        positive_label = 1\n",
    "                    positive_label = int(positive_label)\n",
    "                else:\n",
    "                    positive_label = 0\n",
    "\n",
    "                if(line[negatvie_pos]):\n",
    "                    negative_label = float(line[negatvie_pos])\n",
    "                    if(negative_label == -1):\n",
    "                        negative_label = 1\n",
    "                    negative_label = int(negative_label)\n",
    "                else:\n",
    "                    negative_label = 0\n",
    "\n",
    "                if(positive_label == 1 and negative_label == 0):\n",
    "                    test_data.append((image_name,AP_L,1))\n",
    "                elif(positive_label == 0 and negative_label == 1):\n",
    "                    test_data.append((image_name,AP_L,0))\n",
    "                else:\n",
    "                    continue\n",
    "\n",
    "test_data = pd.DataFrame(test_data, columns=['filename', 'AP_L', 'label'] ,index=None)\n",
    "test_data = test_data[~test_data[test_data.columns[1]].str.contains(\"Lateral\")]\n",
    "print(test_data['label'].value_counts())\n",
    "test_data.head()"
   ]
  },
  {
   "cell_type": "code",
   "execution_count": 16,
   "metadata": {
    "scrolled": true
   },
   "outputs": [
    {
     "name": "stdout",
     "output_type": "stream",
     "text": [
      "Found 58 validated image filenames.\n",
      "58/58 [==============================] - 0s 8ms/step\n"
     ]
    }
   ],
   "source": [
    "test_datagen=ImageDataGenerator( )#rescale=1./255)\n",
    "test_generator=test_datagen.flow_from_dataframe(dataframe=test_data, directory=rootPath , x_col=\"filename\", y_col=\"label\", class_mode=\"raw\", target_size=target_size,  batch_size=1,shuffle = False)\n",
    "\n",
    "test_generator.reset()\n",
    "y_pred_keras = model.predict_generator(test_generator,verbose = 1,steps=test_generator.n)"
   ]
  },
  {
   "cell_type": "code",
   "execution_count": 17,
   "metadata": {},
   "outputs": [],
   "source": [
    "y_labels = test_generator.labels\n",
    "#test = y_labels[:,np.newaxis]\n",
    "test = y_labels[:,np.newaxis]\n",
    "test = np.append(test,y_pred_keras,axis=1)"
   ]
  },
  {
   "cell_type": "code",
   "execution_count": 18,
   "metadata": {
    "scrolled": false
   },
   "outputs": [
    {
     "data": {
      "image/png": "[encoded data removed]",
      "text/plain": [
       "<Figure size 432x288 with 1 Axes>"
      ]
     },
     "metadata": {},
     "output_type": "display_data"
    }
   ],
   "source": [
    "from sklearn.metrics import roc_curve\n",
    "from sklearn.metrics import auc\n",
    "\n",
    "plt.figure(1)\n",
    "plt.plot([0, 1], [0, 1], 'k--')\n",
    "\n",
    "\n",
    "fpr_keras, tpr_keras, thresholds_keras = roc_curve(y_labels, y_pred_keras)\n",
    "auc_keras = auc(fpr_keras, tpr_keras)\n",
    "plt.plot(fpr_keras, tpr_keras, label= title[1] + '(area = {:.3f})'.format(auc_keras))\n",
    "    \n",
    "plt.xlabel('False positive rate')\n",
    "plt.ylabel('True positive rate')\n",
    "plt.title('ROC curve')\n",
    "plt.legend(loc='best')\n",
    "plt.show()\n"
   ]
  },
  {
   "cell_type": "code",
   "execution_count": 19,
   "metadata": {},
   "outputs": [
    {
     "data": {
      "text/plain": [
       "<AxesSubplot:>"
      ]
     },
     "execution_count": 19,
     "metadata": {},
     "output_type": "execute_result"
    },
    {
     "data": {
      "image/png": "[encoded data removed]",
      "text/plain": [
       "<Figure size 432x288 with 2 Axes>"
      ]
     },
     "metadata": {},
     "output_type": "display_data"
    }
   ],
   "source": [
    "from sklearn.metrics import confusion_matrix\n",
    "\n",
    "cf_matrix = confusion_matrix(y_labels, y_pred_keras > 0.5, labels=None)\n",
    "\n",
    "sns.heatmap(cf_matrix, annot=True)"
   ]
  }
 ],
 "metadata": {
  "kernelspec": {
   "display_name": "Python 3",
   "language": "python",
   "name": "python3"
  },
  "language_info": {
   "codemirror_mode": {
    "name": "ipython",
    "version": 3
   },
   "file_extension": ".py",
   "mimetype": "text/x-python",
   "name": "python",
   "nbconvert_exporter": "python",
   "pygments_lexer": "ipython3",
   "version": "3.6.10"
  }
 },
 "nbformat": 4,
 "nbformat_minor": 4
}
