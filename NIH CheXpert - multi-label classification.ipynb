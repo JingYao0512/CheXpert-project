{
 "cells": [
  {
   "cell_type": "markdown",
   "metadata": {},
   "source": [
    "## NIH CheXpert dataset (Classification)"
   ]
  },
  {
   "cell_type": "markdown",
   "metadata": {},
   "source": [
    "## Import Library"
   ]
  },
  {
   "cell_type": "code",
   "execution_count": 1,
   "metadata": {
    "scrolled": true
   },
   "outputs": [
    {
     "name": "stderr",
     "output_type": "stream",
     "text": [
      "Using TensorFlow backend.\n"
     ]
    }
   ],
   "source": [
    "import csv\n",
    "import numpy as np\n",
    "from pathlib import Path\n",
    "\n",
    "# Plot \n",
    "import pandas as pd\n",
    "from sklearn.utils import shuffle\n",
    "import matplotlib.pyplot as plt\n",
    "\n",
    "#import keras\n",
    "from keras.preprocessing.image import ImageDataGenerator\n",
    "from keras.layers import Dense, Activation, Flatten, Dropout, BatchNormalization\n",
    "from keras.layers import Dense, GlobalAveragePooling2D\n",
    "from keras.layers import Conv2D, MaxPooling2D\n",
    "from keras.models import Sequential\n",
    "from keras import regularizers, optimizers\n",
    "from keras import backend as K\n",
    "\n",
    "# model \n",
    "from keras.applications.densenet import DenseNet121\n",
    "from keras.models import Model\n",
    "from keras.models import load_model\n",
    "\n",
    "# metric\n",
    "from sklearn.metrics import classification_report\n"
   ]
  },
  {
   "cell_type": "markdown",
   "metadata": {},
   "source": [
    "## Load data and calculate its counts "
   ]
  },
  {
   "cell_type": "code",
   "execution_count": 2,
   "metadata": {},
   "outputs": [
    {
     "name": "stdout",
     "output_type": "stream",
     "text": [
      "[Pleural Effusion]                                2164\n",
      "[No Finding]                                       553\n",
      "[Enlarged Cardiomediastinum]                       274\n",
      "[Pleural Effusion, Enlarged Cardiomediastinum]     240\n",
      "Name: label, dtype: int64\n"
     ]
    },
    {
     "data": {
      "text/html": [
       "<div>\n",
       "<style scoped>\n",
       "    .dataframe tbody tr th:only-of-type {\n",
       "        vertical-align: middle;\n",
       "    }\n",
       "\n",
       "    .dataframe tbody tr th {\n",
       "        vertical-align: top;\n",
       "    }\n",
       "\n",
       "    .dataframe thead th {\n",
       "        text-align: right;\n",
       "    }\n",
       "</style>\n",
       "<table border=\"1\" class=\"dataframe\">\n",
       "  <thead>\n",
       "    <tr style=\"text-align: right;\">\n",
       "      <th></th>\n",
       "      <th>filename</th>\n",
       "      <th>AP_L</th>\n",
       "      <th>label</th>\n",
       "    </tr>\n",
       "  </thead>\n",
       "  <tbody>\n",
       "    <tr>\n",
       "      <th>0</th>\n",
       "      <td>CheXpert-v1.0-small/train/patient00019/study4/...</td>\n",
       "      <td>Frontal</td>\n",
       "      <td>[Pleural Effusion]</td>\n",
       "    </tr>\n",
       "    <tr>\n",
       "      <th>1</th>\n",
       "      <td>CheXpert-v1.0-small/train/patient00039/study3/...</td>\n",
       "      <td>Frontal</td>\n",
       "      <td>[Enlarged Cardiomediastinum]</td>\n",
       "    </tr>\n",
       "    <tr>\n",
       "      <th>2</th>\n",
       "      <td>CheXpert-v1.0-small/train/patient00062/study2/...</td>\n",
       "      <td>Frontal</td>\n",
       "      <td>[Pleural Effusion]</td>\n",
       "    </tr>\n",
       "    <tr>\n",
       "      <th>3</th>\n",
       "      <td>CheXpert-v1.0-small/train/patient00084/study2/...</td>\n",
       "      <td>Frontal</td>\n",
       "      <td>[No Finding]</td>\n",
       "    </tr>\n",
       "    <tr>\n",
       "      <th>5</th>\n",
       "      <td>CheXpert-v1.0-small/train/patient00128/study12...</td>\n",
       "      <td>Frontal</td>\n",
       "      <td>[Pleural Effusion]</td>\n",
       "    </tr>\n",
       "  </tbody>\n",
       "</table>\n",
       "</div>"
      ],
      "text/plain": [
       "                                            filename     AP_L  \\\n",
       "0  CheXpert-v1.0-small/train/patient00019/study4/...  Frontal   \n",
       "1  CheXpert-v1.0-small/train/patient00039/study3/...  Frontal   \n",
       "2  CheXpert-v1.0-small/train/patient00062/study2/...  Frontal   \n",
       "3  CheXpert-v1.0-small/train/patient00084/study2/...  Frontal   \n",
       "5  CheXpert-v1.0-small/train/patient00128/study12...  Frontal   \n",
       "\n",
       "                          label  \n",
       "0            [Pleural Effusion]  \n",
       "1  [Enlarged Cardiomediastinum]  \n",
       "2            [Pleural Effusion]  \n",
       "3                  [No Finding]  \n",
       "5            [Pleural Effusion]  "
      ]
     },
     "execution_count": 2,
     "metadata": {},
     "output_type": "execute_result"
    }
   ],
   "source": [
    "DatasetPath = \"D:/Dataset/CheXpert-v1.0-small\"\n",
    "csvPath     = \"D:/Dataset/CheXpert-v1.0-small/train.csv\"\n",
    "\n",
    "positive_pos = 15 # 15: Pleural Effusion \n",
    "negatvie_pos = 5  # 5: No finding,\n",
    "third_pos    = 6  # test\n",
    "data = []\n",
    "error = 0 \n",
    "with open(csvPath, newline='') as f:\n",
    "    rows = csv.reader(f)\n",
    "    \n",
    "    row = next(rows)\n",
    "    title = [row[x] for x in np.asarray([negatvie_pos,positive_pos,third_pos])]\n",
    "\n",
    "    for line in rows:\n",
    "        image_name = line[0]\n",
    "        AP_L       = line[3]\n",
    "        device       = line[18]\n",
    "\n",
    "        if(device):\n",
    "            if(float(device) == 0):\n",
    "                if(line[positive_pos]):\n",
    "                    positive_label = float(line[positive_pos])\n",
    "                    if(positive_label == -1):\n",
    "                        positive_label = 1\n",
    "                    positive_label = int(positive_label)\n",
    "                else:\n",
    "                    positive_label = 0\n",
    "\n",
    "                if(line[negatvie_pos]):\n",
    "                    negative_label = float(line[negatvie_pos])\n",
    "                    if(negative_label == -1):\n",
    "                        negative_label = 1\n",
    "                    negative_label = int(negative_label)\n",
    "                else:\n",
    "                    negative_label = 0\n",
    "                \n",
    "                if(line[third_pos]):\n",
    "                    third_label = float(line[third_pos])\n",
    "                    if(third_label == -1):\n",
    "                        third_label = 1\n",
    "                    third_label = int(third_label)\n",
    "                else:\n",
    "                    third_label = 0\n",
    "                if(negative_label == 0 and positive_label == 0 and third_label == 0):\n",
    "                    continue\n",
    "                else:\n",
    "                    labels = []\n",
    "                    \n",
    "                    if(negative_label == 1):\n",
    "                        labels.append(title[0])\n",
    "                    if(positive_label == 1):\n",
    "                        labels.append(title[1])\n",
    "                    if(third_label == 1):\n",
    "                        labels.append(title[2])\n",
    "                    data.append((image_name,AP_L,labels))\n",
    "                #if(positive_label == 1 and negative_label == 0):\n",
    "                #    data.append((image_name,AP_L,1))\n",
    "                #elif(positive_label == 0 and negative_label == 1):\n",
    "                #    data.append((image_name,AP_L,0))\n",
    "                #else:\n",
    "                #    continue\n",
    "\n",
    "data = pd.DataFrame(data, columns=['filename', 'AP_L', 'label'] ,index=None)\n",
    "data = data[~data[data.columns[1]].str.contains(\"Lateral\")]\n",
    "print(data['label'].value_counts())\n",
    "data.head()"
   ]
  },
  {
   "cell_type": "code",
   "execution_count": 12,
   "metadata": {},
   "outputs": [
    {
     "name": "stdout",
     "output_type": "stream",
     "text": [
      "553\n"
     ]
    }
   ],
   "source": [
    "from collections import Counter\n",
    "labels_count = Counter(label for lbs in data['label'] for label in lbs)\n",
    "print(labels_count[title[0]])"
   ]
  },
  {
   "cell_type": "code",
   "execution_count": 29,
   "metadata": {
    "scrolled": true
   },
   "outputs": [
    {
     "data": {
      "image/png": "[encoded data removed]",
      "text/plain": [
       "<Figure size 720x360 with 1 Axes>"
      ]
     },
     "metadata": {},
     "output_type": "display_data"
    }
   ],
   "source": [
    "import seaborn as sns\n",
    "# Get the counts for each class\n",
    "cases_count = data['label'].value_counts()\n",
    "\n",
    "# Plot the results \n",
    "plt.figure(figsize=(10,5))\n",
    "sns.set(font_scale=1.5) # for label size\n",
    "sns.barplot(x = np.linspace(0,len(title)-1,len(title)), y= [labels_count[title[i]] for i in range(len(title))])\n",
    "plt.title('Number of cases', fontsize=14)\n",
    "plt.xlabel('Case type', fontsize=12)\n",
    "plt.ylabel('Count', fontsize=12)\n",
    "plt.xticks(np.linspace(0,len(title)-1,len(title)), [title[i] for i in range(len(title))], fontsize = 10)\n",
    "plt.show()\n"
   ]
  },
  {
   "cell_type": "code",
   "execution_count": 36,
   "metadata": {},
   "outputs": [
    {
     "name": "stdout",
     "output_type": "stream",
     "text": [
      "Found 2553 validated image filenames belonging to 3 classes.\n",
      "Found 678 validated image filenames belonging to 3 classes.\n"
     ]
    }
   ],
   "source": [
    "#matplotlib.use(\"Agg\")\n",
    "from keras.utils import normalize\n",
    "import cv2 as cv\n",
    "\n",
    "msk = np.random.rand(len(data)) < 0.8\n",
    "train_data = data[msk]\n",
    "val_data = data[~msk]\n",
    "# data generation for Keras\n",
    "train_datagen=ImageDataGenerator()#rescale = 1./255,\n",
    "                                 #featurewise_center=True,\n",
    "                                 #featurewise_std_normalization=True,\n",
    "                                 #rotation_range=5,\n",
    "                                 #width_shift_range=0.2,\n",
    "                                 #height_shift_range=0.2,\n",
    "                                 #horizontal_flip=True)\n",
    "\n",
    "target_size = (224,224)\n",
    "\n",
    "rootPath = \"D:/Dataset\"\n",
    "batch = 32\n",
    "train_generator=train_datagen.flow_from_dataframe(dataframe=train_data, directory=rootPath , x_col=\"filename\", y_col=\"label\", class_mode=\"categorical\", target_size=target_size,  batch_size=batch)\n",
    "val_generator=train_datagen.flow_from_dataframe(dataframe=val_data, directory=rootPath , x_col=\"filename\", y_col=\"label\", class_mode=\"categorical\", target_size=target_size,  batch_size=batch)\n",
    "\n"
   ]
  },
  {
   "cell_type": "markdown",
   "metadata": {},
   "source": [
    "### #model architecture design/selection\n",
    "# create the base pre-trained model\n",
    "\n",
    "\n",
    "\n",
    "base_model = DenseNet121(input_shape=(224,224,3),include_top = False, weights='imagenet')\n",
    "for layer in base_model.layers:\n",
    "    layer.trainable = False\n",
    "# add a global spatial average pooling layer\n",
    "\n",
    "x = base_model.output\n",
    "x = GlobalAveragePooling2D()(x)\n",
    "\n",
    "# Add a fully-connected layer\n",
    "x = Dense(16, activation='relu')(x)\n",
    "# and a logistic layer --  we have 5 classes\n",
    "predictions = Dense(1, activation='sigmoid')(x)\n",
    "\n",
    "#print(predictions)\n",
    "model = Model(inputs=base_model.input, outputs=predictions)\n",
    "model.summary()\n",
    "# first: train only the top layers (which were randomly initialized)\n",
    "# i.e. freeze all convolutional DenseNet layers\n",
    "\n",
    "\n",
    "# compile the model (should be done *after* setting layers to non-trainable)\n",
    "\n"
   ]
  },
  {
   "cell_type": "code",
   "execution_count": 37,
   "metadata": {
    "scrolled": true
   },
   "outputs": [
    {
     "name": "stdout",
     "output_type": "stream",
     "text": [
      "Model: \"model_1\"\n",
      "_________________________________________________________________\n",
      "Layer (type)                 Output Shape              Param #   \n",
      "=================================================================\n",
      "input_1 (InputLayer)         (None, 224, 224, 3)       0         \n",
      "_________________________________________________________________\n",
      "conv2d_1 (Conv2D)            (None, 112, 112, 16)      448       \n",
      "_________________________________________________________________\n",
      "batch_normalization_1 (Batch (None, 112, 112, 16)      64        \n",
      "_________________________________________________________________\n",
      "activation_1 (Activation)    (None, 112, 112, 16)      0         \n",
      "_________________________________________________________________\n",
      "max_pooling2d_1 (MaxPooling2 (None, 56, 56, 16)        0         \n",
      "_________________________________________________________________\n",
      "conv2d_2 (Conv2D)            (None, 56, 56, 32)        4640      \n",
      "_________________________________________________________________\n",
      "batch_normalization_2 (Batch (None, 56, 56, 32)        128       \n",
      "_________________________________________________________________\n",
      "activation_2 (Activation)    (None, 56, 56, 32)        0         \n",
      "_________________________________________________________________\n",
      "max_pooling2d_2 (MaxPooling2 (None, 28, 28, 32)        0         \n",
      "_________________________________________________________________\n",
      "conv2d_3 (Conv2D)            (None, 28, 28, 64)        18496     \n",
      "_________________________________________________________________\n",
      "batch_normalization_3 (Batch (None, 28, 28, 64)        256       \n",
      "_________________________________________________________________\n",
      "activation_3 (Activation)    (None, 28, 28, 64)        0         \n",
      "_________________________________________________________________\n",
      "max_pooling2d_3 (MaxPooling2 (None, 14, 14, 64)        0         \n",
      "_________________________________________________________________\n",
      "conv2d_4 (Conv2D)            (None, 14, 14, 128)       73856     \n",
      "_________________________________________________________________\n",
      "batch_normalization_4 (Batch (None, 14, 14, 128)       512       \n",
      "_________________________________________________________________\n",
      "activation_4 (Activation)    (None, 14, 14, 128)       0         \n",
      "_________________________________________________________________\n",
      "max_pooling2d_4 (MaxPooling2 (None, 7, 7, 128)         0         \n",
      "_________________________________________________________________\n",
      "conv2d_5 (Conv2D)            (None, 7, 7, 256)         295168    \n",
      "_________________________________________________________________\n",
      "batch_normalization_5 (Batch (None, 7, 7, 256)         1024      \n",
      "_________________________________________________________________\n",
      "activation_5 (Activation)    (None, 7, 7, 256)         0         \n",
      "_________________________________________________________________\n",
      "max_pooling2d_5 (MaxPooling2 (None, 4, 4, 256)         0         \n",
      "_________________________________________________________________\n",
      "global_average_pooling2d_1 ( (None, 256)               0         \n",
      "_________________________________________________________________\n",
      "dense_1 (Dense)              (None, 32)                8224      \n",
      "_________________________________________________________________\n",
      "dense_2 (Dense)              (None, 3)                 99        \n",
      "=================================================================\n",
      "Total params: 402,915\n",
      "Trainable params: 401,923\n",
      "Non-trainable params: 992\n",
      "_________________________________________________________________\n"
     ]
    }
   ],
   "source": [
    "from keras.layers import Input,Convolution2D,BatchNormalization,Activation,MaxPooling2D\n",
    "model_input = Input(shape=(224,224,3))\n",
    "x = Convolution2D(filters = 16, kernel_size = (3,3), strides = 2, padding='same', \n",
    "                            data_format = 'channels_last')(model_input)\n",
    "x = BatchNormalization()(x)\n",
    "x = Activation('relu')(x)\n",
    "x = MaxPooling2D(pool_size=(3,3), strides = 2, padding ='same')(x)\n",
    "\n",
    "x = Convolution2D(filters = 32, kernel_size = (3,3), strides = 1, padding='same', \n",
    "                            data_format = 'channels_last')(x)\n",
    "x = BatchNormalization()(x)\n",
    "x = Activation('relu')(x)\n",
    "x = MaxPooling2D(pool_size=(3,3), strides = 2, padding ='same')(x)\n",
    "\n",
    "x = Convolution2D(filters = 64, kernel_size = (3,3), strides = 1, padding='same', \n",
    "                            data_format = 'channels_last')(x)\n",
    "x = BatchNormalization()(x)\n",
    "x = Activation('relu')(x)\n",
    "x = MaxPooling2D(pool_size=(3,3), strides = 2, padding ='same')(x)\n",
    "\n",
    "x = Convolution2D(filters = 128, kernel_size = (3,3), strides = 1, padding='same', \n",
    "                            data_format = 'channels_last')(x)\n",
    "x = BatchNormalization()(x)\n",
    "x = Activation('relu')(x)\n",
    "x = MaxPooling2D(pool_size=(3,3), strides = 2, padding ='same')(x)\n",
    "\n",
    "x = Convolution2D(filters = 256, kernel_size = (3,3), strides = 1, padding='same', \n",
    "                            data_format = 'channels_last')(x)\n",
    "x = BatchNormalization()(x)\n",
    "x = Activation('relu')(x)\n",
    "x = MaxPooling2D(pool_size=(3,3), strides = 2, padding ='same')(x)\n",
    "\n",
    "x = GlobalAveragePooling2D()(x)\n",
    "\n",
    "# Add a fully-connected layer\n",
    "x = Dense(32, activation='relu')(x)\n",
    "# and a logistic layer --  we have 5 classes\n",
    "predictions = Dense(3, activation='sigmoid')(x)\n",
    "\n",
    "#print(predictions)\n",
    "model = Model(inputs=model_input, outputs=predictions)\n",
    "model.summary()\n",
    "# first: train only the top layers (which were randomly initialized)\n",
    "# i.e. freeze all convolutional DenseNet layers\n",
    "\n",
    "\n",
    "# compile the model (should be done *after* setting layers to non-trainable)\n",
    "\n",
    "\n"
   ]
  },
  {
   "cell_type": "code",
   "execution_count": 48,
   "metadata": {
    "scrolled": true
   },
   "outputs": [
    {
     "name": "stdout",
     "output_type": "stream",
     "text": [
      "[2.25097276 2.09222423 0.4812812 ]\n"
     ]
    }
   ],
   "source": [
    "from sklearn.utils.class_weight import compute_class_weight,compute_sample_weight\n",
    "\n",
    "#weight = compute_class_weight('balanced', , data['label'].values)\n",
    "#print(weight)\n",
    "\n",
    "weight = np.zeros(len(title))\n",
    "class_sum = 0\n",
    "for name in title:\n",
    "    class_sum += labels_count[name]\n",
    "    weight_idx = train_generator.class_indices[name]\n",
    "    weight[weight_idx] = 1 / (len(title)*labels_count[name])\n",
    "\n",
    "weight = weight * class_sum\n",
    "print(weight)"
   ]
  },
  {
   "cell_type": "code",
   "execution_count": 49,
   "metadata": {},
   "outputs": [],
   "source": [
    "# model training\n",
    "adam = optimizers.Adam(lr=0.0002,decay=0.1)\n",
    "#SGD  = optimizers.SGD(lr=0.001, momentum=0.9)\n",
    "model.compile(optimizer= adam, loss='binary_crossentropy', metrics=['binary_accuracy'])"
   ]
  },
  {
   "cell_type": "code",
   "execution_count": 51,
   "metadata": {
    "scrolled": true
   },
   "outputs": [
    {
     "name": "stdout",
     "output_type": "stream",
     "text": [
      "Epoch 1/20\n",
      "80/79 [==============================] - 9s 107ms/step - loss: 0.4690 - binary_accuracy: 0.8060 - val_loss: 0.6394 - val_binary_accuracy: 0.5708\n",
      "Epoch 2/20\n",
      "80/79 [==============================] - 7s 91ms/step - loss: 0.4409 - binary_accuracy: 0.8146 - val_loss: 0.4608 - val_binary_accuracy: 0.7483\n",
      "Epoch 3/20\n",
      "80/79 [==============================] - 8s 95ms/step - loss: 0.4339 - binary_accuracy: 0.8192 - val_loss: 0.6647 - val_binary_accuracy: 0.8043\n",
      "Epoch 4/20\n",
      "80/79 [==============================] - 7s 94ms/step - loss: 0.4288 - binary_accuracy: 0.8194 - val_loss: 0.8172 - val_binary_accuracy: 0.8038\n",
      "Epoch 5/20\n",
      "80/79 [==============================] - 7s 91ms/step - loss: 0.4273 - binary_accuracy: 0.8194 - val_loss: 0.2216 - val_binary_accuracy: 0.8083\n",
      "Epoch 6/20\n",
      "80/79 [==============================] - 7s 92ms/step - loss: 0.4250 - binary_accuracy: 0.8180 - val_loss: 0.5822 - val_binary_accuracy: 0.8058\n",
      "Epoch 7/20\n",
      "80/79 [==============================] - 7s 92ms/step - loss: 0.4218 - binary_accuracy: 0.8223 - val_loss: 0.6159 - val_binary_accuracy: 0.8097\n",
      "Epoch 8/20\n",
      "80/79 [==============================] - 7s 92ms/step - loss: 0.4231 - binary_accuracy: 0.8241 - val_loss: 0.4019 - val_binary_accuracy: 0.8102\n",
      "Epoch 9/20\n",
      "80/79 [==============================] - 8s 94ms/step - loss: 0.4200 - binary_accuracy: 0.8235 - val_loss: 0.3494 - val_binary_accuracy: 0.8097\n",
      "Epoch 10/20\n",
      "80/79 [==============================] - 7s 93ms/step - loss: 0.4193 - binary_accuracy: 0.8209 - val_loss: 0.5247 - val_binary_accuracy: 0.8092\n",
      "Epoch 11/20\n",
      "80/79 [==============================] - 7s 92ms/step - loss: 0.4163 - binary_accuracy: 0.8233 - val_loss: 0.5005 - val_binary_accuracy: 0.8088\n",
      "Epoch 12/20\n",
      "80/79 [==============================] - 7s 93ms/step - loss: 0.4163 - binary_accuracy: 0.8232 - val_loss: 0.2517 - val_binary_accuracy: 0.8083\n",
      "Epoch 13/20\n",
      "80/79 [==============================] - 7s 93ms/step - loss: 0.4169 - binary_accuracy: 0.8236 - val_loss: 0.2132 - val_binary_accuracy: 0.8092\n",
      "Epoch 14/20\n",
      "80/79 [==============================] - 7s 93ms/step - loss: 0.4139 - binary_accuracy: 0.8244 - val_loss: 0.8604 - val_binary_accuracy: 0.8078\n",
      "Epoch 15/20\n",
      "80/79 [==============================] - 7s 92ms/step - loss: 0.4147 - binary_accuracy: 0.8231 - val_loss: 0.4469 - val_binary_accuracy: 0.8088ccuracy: 0.\n",
      "Epoch 16/20\n",
      "80/79 [==============================] - 7s 92ms/step - loss: 0.4132 - binary_accuracy: 0.8230 - val_loss: 0.6208 - val_binary_accuracy: 0.8078\n",
      "Epoch 17/20\n",
      "80/79 [==============================] - 7s 90ms/step - loss: 0.4133 - binary_accuracy: 0.8243 - val_loss: 0.4375 - val_binary_accuracy: 0.8078\n",
      "Epoch 18/20\n",
      "80/79 [==============================] - 7s 93ms/step - loss: 0.4130 - binary_accuracy: 0.8249 - val_loss: 0.5249 - val_binary_accuracy: 0.8083: 3s - loss: 0.4064 - binary_ac - ETA: 3\n",
      "Epoch 19/20\n",
      "80/79 [==============================] - 7s 92ms/step - loss: 0.4131 - binary_accuracy: 0.8232 - val_loss: 0.5396 - val_binary_accuracy: 0.8097\n",
      "Epoch 20/20\n",
      "80/79 [==============================] - 7s 91ms/step - loss: 0.4115 - binary_accuracy: 0.8250 - val_loss: 0.3766 - val_binary_accuracy: 0.8102\n"
     ]
    }
   ],
   "source": [
    "# fit model\n",
    "epochs  = 20\n",
    "history = model.fit_generator(generator=train_generator,\n",
    "                    steps_per_epoch=train_generator.n / train_generator.batch_size,\n",
    "                    validation_data=val_generator,\n",
    "                    validation_steps=val_generator.n / val_generator.batch_size,\n",
    "                    class_weight = weight,\n",
    "\n",
    "                    epochs=epochs)\n"
   ]
  },
  {
   "cell_type": "code",
   "execution_count": 52,
   "metadata": {
    "scrolled": true
   },
   "outputs": [
    {
     "name": "stdout",
     "output_type": "stream",
     "text": [
      "dict_keys(['val_loss', 'val_binary_accuracy', 'loss', 'binary_accuracy'])\n"
     ]
    },
    {
     "data": {
      "image/png": "[encoded data removed]",
      "text/plain": [
       "<Figure size 432x288 with 1 Axes>"
      ]
     },
     "metadata": {},
     "output_type": "display_data"
    },
    {
     "data": {
      "image/png": "[encoded data removed]",
      "text/plain": [
       "<Figure size 432x288 with 1 Axes>"
      ]
     },
     "metadata": {},
     "output_type": "display_data"
    }
   ],
   "source": [
    "print(history.history.keys())\n",
    "# summarize history for accuracy\n",
    "plt.plot(history.history['binary_accuracy'])\n",
    "plt.plot(history.history['val_binary_accuracy'])\n",
    "plt.title('model accuracy')\n",
    "plt.ylabel('accuracy')\n",
    "plt.xlabel('epoch')\n",
    "plt.legend(['train', 'test'], loc='upper left') \n",
    "plt.show()\n",
    "# summarize history for loss \n",
    "plt.figure()\n",
    "plt.plot(history.history['loss']) \n",
    "plt.plot(history.history['val_loss']) \n",
    "plt.title('model loss')\n",
    "plt.ylabel('loss')\n",
    "plt.xlabel('epoch')\n",
    "plt.legend(['train', 'test'], loc='upper left') \n",
    "plt.show()"
   ]
  },
  {
   "cell_type": "code",
   "execution_count": 55,
   "metadata": {},
   "outputs": [
    {
     "name": "stdout",
     "output_type": "stream",
     "text": [
      "[Enlarged Cardiomediastinum]                      26\n",
      "[No Finding]                                      26\n",
      "[Pleural Effusion, Enlarged Cardiomediastinum]    26\n",
      "[Pleural Effusion]                                 5\n",
      "Name: label, dtype: int64\n"
     ]
    },
    {
     "data": {
      "text/html": [
       "<div>\n",
       "<style scoped>\n",
       "    .dataframe tbody tr th:only-of-type {\n",
       "        vertical-align: middle;\n",
       "    }\n",
       "\n",
       "    .dataframe tbody tr th {\n",
       "        vertical-align: top;\n",
       "    }\n",
       "\n",
       "    .dataframe thead th {\n",
       "        text-align: right;\n",
       "    }\n",
       "</style>\n",
       "<table border=\"1\" class=\"dataframe\">\n",
       "  <thead>\n",
       "    <tr style=\"text-align: right;\">\n",
       "      <th></th>\n",
       "      <th>filename</th>\n",
       "      <th>AP_L</th>\n",
       "      <th>label</th>\n",
       "    </tr>\n",
       "  </thead>\n",
       "  <tbody>\n",
       "    <tr>\n",
       "      <th>0</th>\n",
       "      <td>CheXpert-v1.0-small/valid/patient64541/study1/...</td>\n",
       "      <td>Frontal</td>\n",
       "      <td>[Enlarged Cardiomediastinum]</td>\n",
       "    </tr>\n",
       "    <tr>\n",
       "      <th>1</th>\n",
       "      <td>CheXpert-v1.0-small/valid/patient64543/study1/...</td>\n",
       "      <td>Frontal</td>\n",
       "      <td>[Enlarged Cardiomediastinum]</td>\n",
       "    </tr>\n",
       "    <tr>\n",
       "      <th>2</th>\n",
       "      <td>CheXpert-v1.0-small/valid/patient64544/study1/...</td>\n",
       "      <td>Frontal</td>\n",
       "      <td>[No Finding]</td>\n",
       "    </tr>\n",
       "    <tr>\n",
       "      <th>3</th>\n",
       "      <td>CheXpert-v1.0-small/valid/patient64545/study1/...</td>\n",
       "      <td>Frontal</td>\n",
       "      <td>[Pleural Effusion, Enlarged Cardiomediastinum]</td>\n",
       "    </tr>\n",
       "    <tr>\n",
       "      <th>4</th>\n",
       "      <td>CheXpert-v1.0-small/valid/patient64548/study1/...</td>\n",
       "      <td>Frontal</td>\n",
       "      <td>[Pleural Effusion, Enlarged Cardiomediastinum]</td>\n",
       "    </tr>\n",
       "  </tbody>\n",
       "</table>\n",
       "</div>"
      ],
      "text/plain": [
       "                                            filename     AP_L  \\\n",
       "0  CheXpert-v1.0-small/valid/patient64541/study1/...  Frontal   \n",
       "1  CheXpert-v1.0-small/valid/patient64543/study1/...  Frontal   \n",
       "2  CheXpert-v1.0-small/valid/patient64544/study1/...  Frontal   \n",
       "3  CheXpert-v1.0-small/valid/patient64545/study1/...  Frontal   \n",
       "4  CheXpert-v1.0-small/valid/patient64548/study1/...  Frontal   \n",
       "\n",
       "                                            label  \n",
       "0                    [Enlarged Cardiomediastinum]  \n",
       "1                    [Enlarged Cardiomediastinum]  \n",
       "2                                    [No Finding]  \n",
       "3  [Pleural Effusion, Enlarged Cardiomediastinum]  \n",
       "4  [Pleural Effusion, Enlarged Cardiomediastinum]  "
      ]
     },
     "execution_count": 55,
     "metadata": {},
     "output_type": "execute_result"
    }
   ],
   "source": [
    "#DatasetPath = \"D:/Dataset/CheXpert-v1.0-small\"\n",
    "csvPath     = \"D:/Dataset/CheXpert-v1.0-small/valid.csv\"\n",
    "\n",
    "#positive_pos = 15 # 15: Pleural Effusion \n",
    "#negatvie_pos = 5  # 5: No finding,\n",
    "#third_pos    = 6  # test\n",
    "test_data = []\n",
    "error = 0 \n",
    "with open(csvPath, newline='') as f:\n",
    "    rows = csv.reader(f)\n",
    "    \n",
    "    row = next(rows)\n",
    "    title = [row[x] for x in np.asarray([negatvie_pos,positive_pos,third_pos])]\n",
    "\n",
    "    for line in rows:\n",
    "        image_name = line[0]\n",
    "        AP_L       = line[3]\n",
    "        device       = line[18]\n",
    "\n",
    "        if(device):\n",
    "            if(float(device) == 0):\n",
    "                if(line[positive_pos]):\n",
    "                    positive_label = float(line[positive_pos])\n",
    "                    if(positive_label == -1):\n",
    "                        positive_label = 1\n",
    "                    positive_label = int(positive_label)\n",
    "                else:\n",
    "                    positive_label = 0\n",
    "\n",
    "                if(line[negatvie_pos]):\n",
    "                    negative_label = float(line[negatvie_pos])\n",
    "                    if(negative_label == -1):\n",
    "                        negative_label = 1\n",
    "                    negative_label = int(negative_label)\n",
    "                else:\n",
    "                    negative_label = 0\n",
    "                \n",
    "                if(line[third_pos]):\n",
    "                    third_label = float(line[third_pos])\n",
    "                    if(third_label == -1):\n",
    "                        third_label = 1\n",
    "                    third_label = int(third_label)\n",
    "                else:\n",
    "                    third_label = 0\n",
    "                if(negative_label == 0 and positive_label == 0 and third_label == 0):\n",
    "                    continue\n",
    "                else:\n",
    "                    labels = []\n",
    "                    \n",
    "                    if(negative_label == 1):\n",
    "                        labels.append(title[0])\n",
    "                    if(positive_label == 1):\n",
    "                        labels.append(title[1])\n",
    "                    if(third_label == 1):\n",
    "                        labels.append(title[2])\n",
    "                    test_data.append((image_name,AP_L,labels))\n",
    "                #if(positive_label == 1 and negative_label == 0):\n",
    "                #    data.append((image_name,AP_L,1))\n",
    "                #elif(positive_label == 0 and negative_label == 1):\n",
    "                #    data.append((image_name,AP_L,0))\n",
    "                #else:\n",
    "                #    continue\n",
    "\n",
    "test_data = pd.DataFrame(test_data, columns=['filename', 'AP_L', 'label'] ,index=None)\n",
    "test_data = test_data[~test_data[test_data.columns[1]].str.contains(\"Lateral\")]\n",
    "print(test_data['label'].value_counts())\n",
    "test_data.head()"
   ]
  },
  {
   "cell_type": "code",
   "execution_count": 56,
   "metadata": {
    "scrolled": true
   },
   "outputs": [
    {
     "name": "stdout",
     "output_type": "stream",
     "text": [
      "Found 83 validated image filenames belonging to 3 classes.\n",
      "83/83 [==============================] - 0s 6ms/step\n"
     ]
    }
   ],
   "source": [
    "#test_datagen=ImageDataGenerator( )#rescale=1./255)\n",
    "test_generator=train_datagen.flow_from_dataframe(dataframe=test_data, directory=rootPath , x_col=\"filename\", y_col=\"label\", class_mode=\"categorical\", target_size=target_size,  batch_size=1,shuffle = False)\n",
    "\n",
    "test_generator.reset()\n",
    "y_pred_keras = model.predict_generator(test_generator,verbose = 1,steps=test_generator.n)"
   ]
  },
  {
   "cell_type": "code",
   "execution_count": 69,
   "metadata": {},
   "outputs": [
    {
     "data": {
      "text/plain": [
       "{'Enlarged Cardiomediastinum': 0, 'No Finding': 1, 'Pleural Effusion': 2}"
      ]
     },
     "execution_count": 69,
     "metadata": {},
     "output_type": "execute_result"
    }
   ],
   "source": [
    "test_generator.class_indices"
   ]
  },
  {
   "cell_type": "code",
   "execution_count": 70,
   "metadata": {},
   "outputs": [
    {
     "data": {
      "text/plain": [
       "{'Enlarged Cardiomediastinum': 0, 'No Finding': 1, 'Pleural Effusion': 2}"
      ]
     },
     "execution_count": 70,
     "metadata": {},
     "output_type": "execute_result"
    }
   ],
   "source": [
    "train_generator.class_indices"
   ]
  },
  {
   "cell_type": "code",
   "execution_count": 72,
   "metadata": {},
   "outputs": [],
   "source": [
    "from sklearn.preprocessing import MultiLabelBinarizer\n",
    "\n",
    "mlb = MultiLabelBinarizer()\n",
    "y_labels = mlb.fit_transform(test_generator.labels)"
   ]
  },
  {
   "cell_type": "code",
   "execution_count": 73,
   "metadata": {
    "scrolled": false
   },
   "outputs": [
    {
     "data": {
      "image/png": "[encoded data removed]",
      "text/plain": [
       "<Figure size 432x288 with 1 Axes>"
      ]
     },
     "metadata": {},
     "output_type": "display_data"
    }
   ],
   "source": [
    "from sklearn.metrics import roc_curve\n",
    "from sklearn.metrics import auc\n",
    "\n",
    "plt.figure(1)\n",
    "plt.plot([0, 1], [0, 1], 'k--')\n",
    "\n",
    "for i in range(len(title)):\n",
    "    fpr_keras, tpr_keras, thresholds_keras = roc_curve(y_labels[:,i], y_pred_keras[:,i])\n",
    "    auc_keras = auc(fpr_keras, tpr_keras)\n",
    "    plt.plot(fpr_keras, tpr_keras, label= title[i] + '(area = {:.3f})'.format(auc_keras))\n",
    "    \n",
    "plt.xlabel('False positive rate')\n",
    "plt.ylabel('True positive rate')\n",
    "plt.title('ROC curve')\n",
    "plt.legend(loc='best')\n",
    "plt.show()\n"
   ]
  }
 ],
 "metadata": {
  "kernelspec": {
   "display_name": "Python 3",
   "language": "python",
   "name": "python3"
  },
  "language_info": {
   "codemirror_mode": {
    "name": "ipython",
    "version": 3
   },
   "file_extension": ".py",
   "mimetype": "text/x-python",
   "name": "python",
   "nbconvert_exporter": "python",
   "pygments_lexer": "ipython3",
   "version": "3.6.10"
  }
 },
 "nbformat": 4,
 "nbformat_minor": 4
}
